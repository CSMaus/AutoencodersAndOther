{
 "cells": [
  {
   "cell_type": "markdown",
   "id": "c6e2f32d",
   "metadata": {},
   "source": [
    "# Description"
   ]
  },
  {
   "cell_type": "code",
   "execution_count": null,
   "id": "7a74e575",
   "metadata": {},
   "outputs": [],
   "source": []
  },
  {
   "cell_type": "code",
   "execution_count": null,
   "id": "d5085d65",
   "metadata": {},
   "outputs": [],
   "source": []
  },
  {
   "cell_type": "markdown",
   "id": "857ada4b",
   "metadata": {},
   "source": [
    "## Import libaraies"
   ]
  },
  {
   "cell_type": "code",
   "execution_count": 1,
   "id": "a117a9d8",
   "metadata": {},
   "outputs": [],
   "source": [
    "import keras.optimizers\n",
    "import numpy as np, os, pathlib, matplotlib.pyplot as plt, sys, seaborn as sns\n",
    "from keras.layers import Input, Dense, BatchNormalization, Dropout, Flatten, Reshape, Lambda, Concatenate\n",
    "from keras.models import Model\n",
    "from keras.layers import concatenate\n",
    "from keras.layers import Rescaling, Reshape, Resizing, RandomZoom, RandomRotation, RandomFlip\n",
    "\n",
    "import tensorflow as tf\n",
    "from keras.metrics.metrics import binary_crossentropy\n",
    "from keras.layers import LeakyReLU\n",
    "from keras import backend as bk\n",
    "# from tensorflow.keras.utils import to_categorical\n",
    "import parameters as p"
   ]
  },
  {
   "cell_type": "code",
   "execution_count": 2,
   "id": "8d1e52bc",
   "metadata": {},
   "outputs": [],
   "source": [
    "# from tensorflow.python.framework.ops import enable_eager_execution\n",
    "# enable_eager_execution()"
   ]
  },
  {
   "cell_type": "markdown",
   "id": "dd917238",
   "metadata": {},
   "source": [
    "## Parameters"
   ]
  },
  {
   "cell_type": "code",
   "execution_count": 8,
   "id": "7381bd34",
   "metadata": {},
   "outputs": [],
   "source": [
    "# PARAMETERS\n",
    "batch_size = 240\n",
    "latent_dim = 512  # to be easier generate and visualize result\n",
    "dropout_r = 0.1\n",
    "lr_0 = 0.0001\n",
    "epoch = 10\n",
    "\n",
    "img_height = 224\n",
    "img_width = 224\n",
    "ims = 224\n",
    "ishape = (ims, ims, 3)\n",
    "ishape_out = (ims, ims, 1)\n",
    "\n",
    "Adam = keras.optimizers.Adam"
   ]
  },
  {
   "cell_type": "code",
   "execution_count": 4,
   "id": "fc292418",
   "metadata": {},
   "outputs": [
    {
     "name": "stdout",
     "output_type": "stream",
     "text": [
      "Number of images: 4800\n"
     ]
    }
   ],
   "source": [
    "name = f'cats_cvae_dim{latent_dim}_epochs{epoch}_ims{ims}'\n",
    "\n",
    "data_dir = p.dataset_folder\n",
    "data_dir = pathlib.Path(data_dir)\n",
    "image_count = len(list(data_dir.glob('*/*.jpg')))\n",
    "print('Number of images:', image_count)"
   ]
  },
  {
   "cell_type": "code",
   "execution_count": 6,
   "id": "dfe186eb",
   "metadata": {},
   "outputs": [
    {
     "name": "stdout",
     "output_type": "stream",
     "text": [
      "BATCH SIZE: 240\n"
     ]
    }
   ],
   "source": [
    "if batch_size < image_count:\n",
    "    batch_size = int(image_count * 0.05)\n",
    "    # print(batch_size)\n",
    "else:\n",
    "    batch_size = image_count // 2\n",
    "\n",
    "print('BATCH SIZE:', batch_size)\n",
    "image_generator = tf.keras.preprocessing.image.ImageDataGenerator(rescale=1.0 / 255, validation_split=0.2)"
   ]
  },
  {
   "cell_type": "code",
   "execution_count": 9,
   "id": "f9781138",
   "metadata": {},
   "outputs": [
    {
     "name": "stdout",
     "output_type": "stream",
     "text": [
      "Found 4800 files belonging to 2 classes.\n",
      "Using 3840 files for training.\n",
      "Found 4800 files belonging to 2 classes.\n",
      "Using 960 files for validation.\n"
     ]
    }
   ],
   "source": [
    "train_img_ds = tf.keras.utils.image_dataset_from_directory(\n",
    "    data_dir,\n",
    "    validation_split=0.2,\n",
    "    subset=\"training\",\n",
    "    seed=42,\n",
    "    batch_size=batch_size,\n",
    "    image_size=(ims, ims),\n",
    "    labels=None,\n",
    "    color_mode=\"rgb\"\n",
    ")\n",
    "\n",
    "valid_img_ds = tf.keras.utils.image_dataset_from_directory(\n",
    "    data_dir,\n",
    "    validation_split=0.2,\n",
    "    subset=\"validation\",\n",
    "    seed=42,\n",
    "    batch_size=batch_size,\n",
    "    image_size=(ims, ims),\n",
    "    color_mode=\"rgb\")"
   ]
  },
  {
   "cell_type": "code",
   "execution_count": null,
   "id": "3e0cb2c5",
   "metadata": {},
   "outputs": [],
   "source": [
    "train_img_ds = tf.keras.utils.image_dataset_from_directory(\n",
    "    data_dir,\n",
    "    validation_split=0.2,\n",
    "    subset=\"training\",\n",
    "    seed=42,\n",
    "    batch_size=batch_size,\n",
    "    image_size=(ims, ims),\n",
    "    labels=None,\n",
    "    color_mode=\"rgb\"\n",
    ")\n",
    "\n",
    "valid_img_ds = tf.keras.utils.image_dataset_from_directory(\n",
    "    data_dir,\n",
    "    validation_split=0.2,\n",
    "    subset=\"validation\",\n",
    "    seed=42,\n",
    "    batch_size=batch_size,\n",
    "    image_size=(ims, ims),\n",
    "    color_mode=\"rgb\")"
   ]
  },
  {
   "cell_type": "code",
   "execution_count": 10,
   "id": "db62501e",
   "metadata": {},
   "outputs": [
    {
     "name": "stdout",
     "output_type": "stream",
     "text": [
      "num_classes: 2 - ['cats', 'dogs']\n",
      "\n",
      "\n",
      "shape train_img, train_lbl: (3840, 224, 224, 3) (3840, 2) \n",
      "\n"
     ]
    }
   ],
   "source": [
    "class_names = train_ds.class_names  # os.listdir(os.path.join(data_dir))\n",
    "num_classes = len(class_names)\n",
    "print('num_classes:', num_classes, '-', class_names)\n",
    "\n",
    "\n",
    "full_imgs = lambda ds: np.concatenate([x for x, y in ds])\n",
    "full_lbls = lambda ds: np.concatenate([y for x, y in ds])\n",
    "\n",
    "train_img = full_imgs(train_ds)\n",
    "train_img = train_img.astype('float32') / 255.\n",
    "train_lbl = full_lbls(train_ds)\n",
    "# train_lbl_cat = tf.keras.utils.to_categorical(train_lbl).astype(np.float32)\n",
    "\n",
    "valid_img = full_imgs(valid_ds)\n",
    "valid_img = valid_img.astype('float32') / 255.\n",
    "valid_lbl = full_lbls(valid_ds)\n",
    "print('\\n\\nshape train_img, train_lbl:', np.shape(train_img), np.shape(train_lbl), '\\n')"
   ]
  },
  {
   "cell_type": "code",
   "execution_count": null,
   "id": "330621b0",
   "metadata": {},
   "outputs": [],
   "source": []
  },
  {
   "cell_type": "code",
   "execution_count": null,
   "id": "4feadd6f",
   "metadata": {},
   "outputs": [],
   "source": []
  },
  {
   "cell_type": "code",
   "execution_count": null,
   "id": "d6264b69",
   "metadata": {},
   "outputs": [],
   "source": []
  },
  {
   "cell_type": "code",
   "execution_count": null,
   "id": "ef14c8dd",
   "metadata": {},
   "outputs": [],
   "source": []
  },
  {
   "cell_type": "code",
   "execution_count": null,
   "id": "97128d44",
   "metadata": {},
   "outputs": [],
   "source": []
  },
  {
   "cell_type": "code",
   "execution_count": null,
   "id": "d347fbbc",
   "metadata": {},
   "outputs": [],
   "source": []
  }
 ],
 "metadata": {
  "kernelspec": {
   "display_name": "Python 3 (ipykernel)",
   "language": "python",
   "name": "python3"
  },
  "language_info": {
   "codemirror_mode": {
    "name": "ipython",
    "version": 3
   },
   "file_extension": ".py",
   "mimetype": "text/x-python",
   "name": "python",
   "nbconvert_exporter": "python",
   "pygments_lexer": "ipython3",
   "version": "3.9.7"
  }
 },
 "nbformat": 4,
 "nbformat_minor": 5
}
