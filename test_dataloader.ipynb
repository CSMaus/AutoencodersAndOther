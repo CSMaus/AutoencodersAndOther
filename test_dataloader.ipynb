{
 "cells": [
  {
   "cell_type": "markdown",
   "id": "e32bf207",
   "metadata": {},
   "source": [
    "# Description"
   ]
  },
  {
   "cell_type": "markdown",
   "id": "73bd3f52",
   "metadata": {},
   "source": [
    "This script to load images and masks for them to train autoenscofer for image (semantic) segmentation"
   ]
  },
  {
   "cell_type": "markdown",
   "id": "30fec6b6",
   "metadata": {},
   "source": [
    "## Import librarties"
   ]
  },
  {
   "cell_type": "code",
   "execution_count": 4,
   "id": "bc710325",
   "metadata": {},
   "outputs": [],
   "source": [
    "from dataloader import DataLoader\n",
    "import tensorflow as tf\n",
    "import os"
   ]
  },
  {
   "cell_type": "markdown",
   "id": "eb1e5013",
   "metadata": {},
   "source": [
    "## Parameters"
   ]
  },
  {
   "cell_type": "code",
   "execution_count": 19,
   "id": "2664dcba",
   "metadata": {},
   "outputs": [],
   "source": [
    "# First try to use cats\n",
    "IMAGE_DIR_PATH = 'D:/DataSets/!object_detection/class2/images/cats/'\n",
    "MASK_DIR_PATH = 'D:/DataSets/!object_detection/class2/masks/cats/'\n",
    "batch_size = 4\n",
    "img_size = 256"
   ]
  },
  {
   "cell_type": "markdown",
   "id": "544777ab",
   "metadata": {},
   "source": [
    "## Test loader"
   ]
  },
  {
   "cell_type": "code",
   "execution_count": 9,
   "id": "9a941eee",
   "metadata": {},
   "outputs": [],
   "source": [
    "# create list of PATHS\n",
    "image_paths = [os.path.join(IMAGE_DIR_PATH, x) for x in os.listdir(IMAGE_DIR_PATH) if x.endswith('.jpg')]\n",
    "mask_paths = [os.path.join(MASK_DIR_PATH, x) for x in os.listdir(MASK_DIR_PATH) if x.endswith('.jpg')]"
   ]
  },
  {
   "cell_type": "code",
   "execution_count": 14,
   "id": "844fee44",
   "metadata": {},
   "outputs": [],
   "source": [
    "# Initialize the dataloader object\n",
    "dataset = DataLoader(\n",
    "    image_paths=image_paths,\n",
    "    mask_paths=mask_paths,\n",
    "    image_size=(img_size, img_size),\n",
    "    crop_percent=1,\n",
    "    channels=(3, 1),\n",
    "    augment=True,\n",
    "    compose=False,\n",
    "    seed=47)\n",
    "\n",
    "# channels=(3, 1) is loading images as rgb (3 channels) and masks and gray-colored (1 channel)"
   ]
  },
  {
   "cell_type": "code",
   "execution_count": 15,
   "id": "509eff77",
   "metadata": {},
   "outputs": [],
   "source": [
    "# Parse the images and masks, and return the data in batches, augmented optionally.\n",
    "dataset = dataset.data_batch(\n",
    "    batch_size=batch_size,\n",
    "    shuffle=True)"
   ]
  },
  {
   "cell_type": "code",
   "execution_count": 17,
   "id": "3d9d2319",
   "metadata": {},
   "outputs": [],
   "source": [
    "# Initialize the data queue\n",
    "# for image, mask in dataset:      \n",
    "#     ..."
   ]
  },
  {
   "cell_type": "code",
   "execution_count": 16,
   "id": "92010cd2",
   "metadata": {},
   "outputs": [
    {
     "name": "stdout",
     "output_type": "stream",
     "text": [
      "<class 'tensorflow.python.data.ops.dataset_ops.BatchDataset'>\n"
     ]
    }
   ],
   "source": [
    "print(type(dataset))"
   ]
  },
  {
   "cell_type": "markdown",
   "id": "b576d080",
   "metadata": {},
   "source": [
    "## Load usual tensorflow way to compare"
   ]
  },
  {
   "cell_type": "code",
   "execution_count": 21,
   "id": "9127f194",
   "metadata": {},
   "outputs": [
    {
     "name": "stdout",
     "output_type": "stream",
     "text": [
      "Found 20 files belonging to 2 classes.\n",
      "Using 16 files for training.\n",
      "Found 20 files belonging to 2 classes.\n",
      "Using 4 files for validation.\n"
     ]
    }
   ],
   "source": [
    "train_ds = tf.keras.utils.image_dataset_from_directory(\n",
    "    'D:/DataSets/!object_detection/class2/images/',\n",
    "    validation_split=0.2,\n",
    "    subset=\"training\",\n",
    "    seed=42,\n",
    "    batch_size=batch_size,\n",
    "    image_size=(img_size, img_size),\n",
    "    labels='inferred',\n",
    "    label_mode='categorical',\n",
    "    color_mode=\"rgb\"\n",
    ")\n",
    "\n",
    "valid_ds = tf.keras.utils.image_dataset_from_directory(\n",
    "    'D:/DataSets/!object_detection/class2/images/',\n",
    "    validation_split=0.2,\n",
    "    subset=\"validation\",\n",
    "    seed=42,\n",
    "    batch_size=batch_size,\n",
    "    image_size=(img_size, img_size),\n",
    "    labels='inferred',\n",
    "    label_mode='categorical',\n",
    "    color_mode=\"rgb\"\n",
    ")"
   ]
  },
  {
   "cell_type": "code",
   "execution_count": 22,
   "id": "77db18d3",
   "metadata": {},
   "outputs": [
    {
     "name": "stdout",
     "output_type": "stream",
     "text": [
      "<class 'tensorflow.python.data.ops.dataset_ops.BatchDataset'>\n"
     ]
    }
   ],
   "source": [
    "print(type(train_ds))"
   ]
  },
  {
   "cell_type": "code",
   "execution_count": null,
   "id": "549b2956",
   "metadata": {},
   "outputs": [],
   "source": []
  },
  {
   "cell_type": "code",
   "execution_count": null,
   "id": "9dc19030",
   "metadata": {},
   "outputs": [],
   "source": []
  },
  {
   "cell_type": "code",
   "execution_count": null,
   "id": "e89227f2",
   "metadata": {},
   "outputs": [],
   "source": []
  },
  {
   "cell_type": "code",
   "execution_count": null,
   "id": "2b5dbdf5",
   "metadata": {},
   "outputs": [],
   "source": []
  },
  {
   "cell_type": "code",
   "execution_count": null,
   "id": "79d8946d",
   "metadata": {},
   "outputs": [],
   "source": []
  },
  {
   "cell_type": "code",
   "execution_count": null,
   "id": "fd0a1865",
   "metadata": {},
   "outputs": [],
   "source": []
  },
  {
   "cell_type": "code",
   "execution_count": null,
   "id": "0de484c3",
   "metadata": {},
   "outputs": [],
   "source": []
  },
  {
   "cell_type": "code",
   "execution_count": null,
   "id": "f9d903a0",
   "metadata": {},
   "outputs": [],
   "source": []
  }
 ],
 "metadata": {
  "kernelspec": {
   "display_name": "Python 3 (ipykernel)",
   "language": "python",
   "name": "python3"
  },
  "language_info": {
   "codemirror_mode": {
    "name": "ipython",
    "version": 3
   },
   "file_extension": ".py",
   "mimetype": "text/x-python",
   "name": "python",
   "nbconvert_exporter": "python",
   "pygments_lexer": "ipython3",
   "version": "3.9.7"
  }
 },
 "nbformat": 4,
 "nbformat_minor": 5
}
